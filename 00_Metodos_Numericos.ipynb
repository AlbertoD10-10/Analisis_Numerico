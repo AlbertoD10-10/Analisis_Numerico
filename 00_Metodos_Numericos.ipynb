{
 "cells": [
  {
   "cell_type": "markdown",
   "metadata": {},
   "source": [
    "# Curso de Métodos Numéricos"
   ]
  },
  {
   "cell_type": "markdown",
   "metadata": {},
   "source": [
    "<table>\n",
    " <tr align=left><td><img align=left src=\"./images/CC-BY.png\">\n",
    " <td>Text provided under a Creative Commons Attribution license, CC-BY. All code is made available under the FSF-approved MIT license.(c) Carlos Alberto Alvarez Henao</td>\n",
    "</table>"
   ]
  },
  {
   "cell_type": "markdown",
   "metadata": {},
   "source": [
    "Estas notas son parte de la revisión de una extensa bibliografía a lo largo de mi trayectoria académica y traducida al formato de Notebook empleando la herramienta [Jupyter](https://jupyter.org/ \"Jupyter notebook\") y el lenguaje de programación [Python](https://www.python.org/ \"Python\"). \n",
    "\n",
    "La intención de este curso es empezar a dar una visión más moderna de los métodos utilizados actualmente para resolver los problemas numéricos actuales, sin las restricciones dadas en el pasado (aunque sin dejarlas de lado). \n",
    "\n",
    "Se pretende dar una transición lo más suave posible entre la forma tradicional de ofrecer esta disciplina y acercarla cada vez más a las necesidades actuales en la resolución de problemas más complejos que requieren algoritmos computacionales más eficientes y aprovechando al máximo el recurso máquina disponible en la actualidad. \n",
    "\n",
    "Esta primera parte será basada en las notas traducidas al español del curso del profesor [Mandli](https://github.com/mandli/intro-numerical-methods) y de otros textos que serán debidamente referenciados.\n",
    "\n",
    "En cada capítulo se hará una presentación de la parte teórica, sin la intención de reemplazar los libros de texto guías de cursos de este tipo, mezclado con algoritmos y programación de los mismos, como parte de incentivar al estudiante a que elabore sus propias versiones."
   ]
  },
  {
   "cell_type": "markdown",
   "metadata": {},
   "source": [
    "# Contenido"
   ]
  },
  {
   "cell_type": "markdown",
   "metadata": {},
   "source": [
    "|**Capítulo** |**Contenido**                                                   |\n",
    "|:-----------:|:--------------------------------------------------------------:|\n",
    "|      00_0   | Introducción                                                   |\n",
    "|      00_1   | Jupyter / Python: crash course\n",
    "|      01     | Teoría de Errores y representación de números en el computador |\n",
    "|      02     | Solución de ecuaciones no lineales en 1D                       |\n",
    "|      03     | Solución numérica de sistemas de ecuaciones lineales           |\n",
    "|      04     | Interpolación                                                  |\n",
    "|      05     | Diferenciación e Integración Numérica                          |\n",
    "|      06     | Problemas de valores iniciales                                 |\n",
    "|      07     | Problemas de valores de contorno                               |\n",
    "|      08     | Introducción a los Elementos Finitos                           |\n"
   ]
  },
  {
   "cell_type": "code",
   "execution_count": null,
   "metadata": {},
   "outputs": [],
   "source": []
  }
 ],
 "metadata": {
  "kernelspec": {
   "display_name": "Python 3",
   "language": "python",
   "name": "python3"
  },
  "language_info": {
   "codemirror_mode": {
    "name": "ipython",
    "version": 3
   },
   "file_extension": ".py",
   "mimetype": "text/x-python",
   "name": "python",
   "nbconvert_exporter": "python",
   "pygments_lexer": "ipython3",
   "version": "3.6.7"
  }
 },
 "nbformat": 4,
 "nbformat_minor": 2
}
